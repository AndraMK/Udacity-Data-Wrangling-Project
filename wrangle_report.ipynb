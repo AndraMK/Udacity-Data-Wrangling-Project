{
 "cells": [
  {
   "cell_type": "markdown",
   "metadata": {},
   "source": [
    "## Data Wrangling Report\n"
   ]
  },
  {
   "cell_type": "markdown",
   "metadata": {},
   "source": [
    "Data wrangling is a complex process of gathering, assessing, and cleaning data for the purpose of conducting additional data analyses. This project was completed as an exercise to practice data wrangling skills in obtaining multiple sources of data, assessing and cleaning data, and gleaming insights from data as part of the analysis process."
   ]
  },
  {
   "cell_type": "markdown",
   "metadata": {},
   "source": [
    "### Data Gathering\n",
    "\n",
    "Sources of data to complete this project were obtained using three different methods:\n",
    "\n",
    "1. Directly downloading the WeRateDogs Twitter archive data from a file: (twitter_archive_enhanced.csv)\n",
    "\n",
    "2. Gathering data from the Requests library using a URL to download the tweet image prediction (image_predictions.tsv) file\n",
    "\n",
    "3. Scraping twitter data using the Tweepy library to query additional data via the Twitter API (tweet_json.txt)\n"
   ]
  },
  {
   "cell_type": "markdown",
   "metadata": {},
   "source": [
    "### Data Assessment\n",
    "\n",
    "Following the successful download of these three datafiles, each dataset was visually and programmatically assessed for data issues relating to data quality and data tidiness. Data issues identified include the following:\n",
    "\n",
    "#### Data Quality Issues:\n",
    "\n",
    "1. The twitter archive datafile contains duplicate retweet data that needs to be removed. \n",
    "\n",
    "2. Several columns are in a datatype form that is not conducive to analysis. All three data sources have tweet_id as integer datatype when it should be string datatype. The timestamp column in the twitter archive datafile is in string format when it should be in string format. There are four dog columns (doggo, floofer, pupper, and puppo) that are in string format when they should combined into one single column of category datatype. Additionally, there are some dog stages that were not extracted correctly from the text that require extraction\n",
    "\n",
    "3. In the image predictions datafile, values in columns p1, p2, and p3 have a mix of uppercase and lowercase characters.\n",
    "\n",
    "4. The name column in the twitter archive datafile contains incorrect values and/or single characters.\n",
    "\n",
    "5. Columns p1, p2, p3 of the image prediction datafile contain '_' instead of spaces between words.\n",
    "\n",
    "6. There are several inaccurate rating_numerator values because they contain decimals that were inaccurately extracted from the text. \n",
    "\n",
    "7. The image prediction datafile contains duplicate jpg_url entries that need to be removed.\n",
    "\n",
    "8. There are several columns deemed unnecessary for analysis that may be removed for this project: in_reply_to_status_id, in_reply_to_user_id, retweeted_status_id, retweeted_status_user_id, retweeted_status_timestamp\n",
    "\n",
    "#### Data Tidiness Issues:\n",
    "\n",
    "1. All three datafiles can be combined into one data table on the tweet_id column.\n",
    "\n",
    "2. The four dog columns (doggo, floofer, pupper, puppo) can be combined into one column."
   ]
  },
  {
   "cell_type": "markdown",
   "metadata": {},
   "source": [
    "### Data Cleaning\n",
    "\n",
    "After visually and programmatically assessing all three datasets, various methods were used to address the above data quality and tidiness issues. During the cleaning process, a Define-Code-Test method was used to define each data cleaning task, detail code methods used, and testing to make sure the desired result was achieved."
   ]
  },
  {
   "cell_type": "markdown",
   "metadata": {},
   "source": [
    "### Conclusion\n",
    "\n",
    "Following the data cleaning process, the resulting dataframe was analyzed to gain insights into the dataset and visualizations were created to provide increased understanding of the findings. These analyses and visualizations were created following data cleaning and may be prone to error, therefore, these results should be interpreted with caution."
   ]
  }
 ],
 "metadata": {
  "kernelspec": {
   "display_name": "Python 3",
   "language": "python",
   "name": "python3"
  },
  "language_info": {
   "codemirror_mode": {
    "name": "ipython",
    "version": 3
   },
   "file_extension": ".py",
   "mimetype": "text/x-python",
   "name": "python",
   "nbconvert_exporter": "python",
   "pygments_lexer": "ipython3",
   "version": "3.6.3"
  }
 },
 "nbformat": 4,
 "nbformat_minor": 2
}
